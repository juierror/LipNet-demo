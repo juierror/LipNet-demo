{
 "cells": [
  {
   "cell_type": "code",
   "execution_count": 1,
   "metadata": {},
   "outputs": [],
   "source": [
    "import torch\n",
    "from torch.utils.data import Dataset, DataLoader\n",
    "from torchvision import transforms, utils\n",
    "import torch.nn as nn\n",
    "import torch.nn.functional as F\n",
    "import torch.nn.init as init"
   ]
  },
  {
   "cell_type": "code",
   "execution_count": 2,
   "metadata": {},
   "outputs": [],
   "source": [
    "import cv2\n",
    "import numpy as np\n",
    "import dlib\n",
    "import matplotlib.pyplot as plt\n",
    "import math\n",
    "import skvideo.io as skv\n",
    "import editdistance"
   ]
  },
  {
   "cell_type": "code",
   "execution_count": 3,
   "metadata": {},
   "outputs": [],
   "source": [
    "face_detector = dlib.get_frontal_face_detector()\n",
    "lip_detector = dlib.shape_predictor(\"./shape_predictor_68_face_landmarks.dat\")"
   ]
  },
  {
   "cell_type": "code",
   "execution_count": 4,
   "metadata": {},
   "outputs": [],
   "source": [
    "vid_path = \"./videos/bbaf2n.mpg\"\n",
    "label_path = \"./alignments/bbaf2n.align\""
   ]
  },
  {
   "cell_type": "code",
   "execution_count": 5,
   "metadata": {},
   "outputs": [],
   "source": [
    "MOUTH_WIDTH = 128\n",
    "MOUTH_HEIGHT = 64\n",
    "HORIZONTAL_PAD = 0.19\n",
    "\n",
    "vid = skv.vread(vid_path)\n",
    "out = np.zeros((75,64,128,3))\n",
    "    \n",
    "out_landmark = np.zeros((75,40))\n",
    "out_image = np.zeros((75,MOUTH_HEIGHT,MOUTH_WIDTH,3))\n",
    "for i in range(vid.shape[0]):\n",
    "    tmp_image = vid[i,:,:,:]\n",
    "    rec_list, _, _  = face_detector.run(tmp_image,1)\n",
    "\n",
    "    if len(rec_list) > 1:\n",
    "        print(\"too many face\")\n",
    "        break\n",
    "#         return -1\n",
    "    elif len(rec_list) == 0:\n",
    "        print(\"no face\")\n",
    "        break\n",
    "#         return -1\n",
    "\n",
    "    landmarks = lip_detector(tmp_image,rec_list[0]).parts()\n",
    "\n",
    "    lip_point = np.array([[p.x,p.y] for p in landmarks[48:69]])\n",
    "    mouth_centroid = np.mean(lip_point[:, -2:], axis=0)\n",
    "\n",
    "    mouth_left = np.min(lip_point[:, :-1]) * (1.0 - HORIZONTAL_PAD)\n",
    "    mouth_right = np.max(lip_point[:, :-1]) * (1.0 + HORIZONTAL_PAD)\n",
    "\n",
    "    normalize_ratio = MOUTH_WIDTH / float(mouth_right - mouth_left)\n",
    "    new_img_shape = (int(tmp_image.shape[0] * normalize_ratio), int(tmp_image.shape[1] * normalize_ratio))\n",
    "    tmp_image = cv2.resize(tmp_image,(new_img_shape[1],new_img_shape[0]))\n",
    "\n",
    "    mouth_centroid_norm = mouth_centroid * normalize_ratio\n",
    "    \n",
    "    mouth_l = int(mouth_centroid_norm[0] - MOUTH_WIDTH / 2)\n",
    "    mouth_r = int(mouth_centroid_norm[0] + MOUTH_WIDTH / 2)\n",
    "    mouth_t = int(mouth_centroid_norm[1] - MOUTH_HEIGHT / 2)\n",
    "    mouth_b = int(mouth_centroid_norm[1] + MOUTH_HEIGHT / 2)\n",
    "\n",
    "    mouth_crop_image = tmp_image[mouth_t:mouth_b, mouth_l:mouth_r]\n",
    "\n",
    "    out_image[i,:,:,:] = mouth_crop_image\n",
    "    \n",
    "    # landmark\n",
    "    lip_point_norm = lip_point * normalize_ratio\n",
    "\n",
    "    lip_point_norm[:,0] = lip_point_norm[:,0] / new_img_shape[0]\n",
    "    lip_point_norm[:,1] = lip_point_norm[:,1] / new_img_shape[1]\n",
    "    lip_point_norm = lip_point_norm.flatten()\n",
    "            \n",
    "            \n",
    "    assert np.sum(lip_point_norm > 1) == 0\n",
    "\n",
    "    out_landmark[i,:] = lip_point_norm\n",
    "    \n",
    "out_image = out_image/255.0   "
   ]
  },
  {
   "cell_type": "code",
   "execution_count": 6,
   "metadata": {},
   "outputs": [
    {
     "data": {
      "text/plain": [
       "(75, 64, 128, 3)"
      ]
     },
     "execution_count": 6,
     "metadata": {},
     "output_type": "execute_result"
    }
   ],
   "source": [
    "out_image.shape"
   ]
  },
  {
   "cell_type": "code",
   "execution_count": 7,
   "metadata": {},
   "outputs": [
    {
     "data": {
      "text/plain": [
       "(75, 40)"
      ]
     },
     "execution_count": 7,
     "metadata": {},
     "output_type": "execute_result"
    }
   ],
   "source": [
    "out_landmark.shape"
   ]
  },
  {
   "cell_type": "code",
   "execution_count": 8,
   "metadata": {},
   "outputs": [
    {
     "data": {
      "text/plain": [
       "<matplotlib.image.AxesImage at 0x27a86422f28>"
      ]
     },
     "execution_count": 8,
     "metadata": {},
     "output_type": "execute_result"
    },
    {
     "data": {
      "image/png": "[encoded data removed]",
      "text/plain": [
       "<Figure size 432x288 with 1 Axes>"
      ]
     },
     "metadata": {
      "needs_background": "light"
     },
     "output_type": "display_data"
    }
   ],
   "source": [
    "plt.imshow(out_image[0])"
   ]
  },
  {
   "cell_type": "code",
   "execution_count": 14,
   "metadata": {},
   "outputs": [],
   "source": [
    "def wer(predict, truth):        \n",
    "    word_pairs = [(p[0].split(' '), p[1].split(' ')) for p in zip(predict, truth)]\n",
    "    wer = [1.0*editdistance.eval(p[0], p[1])/len(p[1]) for p in word_pairs]\n",
    "    return wer\n",
    "        \n",
    "def cer(predict, truth):\n",
    "    cer = [1.0*editdistance.eval(p[0], p[1])/len(p[1]) for p in zip(predict, truth)]\n",
    "    return cer"
   ]
  },
  {
   "cell_type": "code",
   "execution_count": 15,
   "metadata": {},
   "outputs": [],
   "source": [
    "def drop_dup(l):\n",
    "    out = [l[0]]\n",
    "    for a in l[1:]:\n",
    "        if a != out[-1]:\n",
    "            out.append(a)\n",
    "    return out\n",
    "\n",
    "def text_decode(text):\n",
    "    output = torch.softmax(text.cpu(),dim=-1).argmax(-1).numpy()\n",
    "    txt = []\n",
    "    for i in range(output.shape[0]):\n",
    "        o = output[i]\n",
    "        # TODO: Implement drop dup\n",
    "        o = drop_dup(list(o))\n",
    "        tmp_out = []\n",
    "        for c in o:\n",
    "            if int(c) != 0:\n",
    "                tmp_out.append(idx2word[int(c)])\n",
    "        txt.append(\"\".join(tmp_out))\n",
    "    return txt\n",
    "\n",
    "def real_decode(labels, labels_len):\n",
    "    txt = []\n",
    "    for i in range(labels.shape[0]):\n",
    "        o = labels[i,:int(labels_len[i])]\n",
    "        tmp_out = []\n",
    "        for c in o:\n",
    "            if int(c) != 0 and int(c) != -1:\n",
    "                tmp_out.append(idx2word[int(c)])\n",
    "        txt.append(\"\".join(tmp_out))\n",
    "    return txt"
   ]
  },
  {
   "cell_type": "code",
   "execution_count": 16,
   "metadata": {},
   "outputs": [],
   "source": [
    "def wer_func(r, h):\n",
    "    \"\"\"\n",
    "    Calculation of WER with Levenshtein distance.\n",
    "\n",
    "    Works only for iterables up to 254 elements (uint8).\n",
    "    O(nm) time ans space complexity.\n",
    "\n",
    "    Parameters\n",
    "    ----------\n",
    "    r : list\n",
    "    h : list\n",
    "\n",
    "    Returns\n",
    "    -------\n",
    "    int\n",
    "\n",
    "    Examples\n",
    "    --------\n",
    "    >>> wer(\"who is there\".split(), \"is there\".split())\n",
    "    1\n",
    "    >>> wer(\"who is there\".split(), \"\".split())\n",
    "    3\n",
    "    >>> wer(\"\".split(), \"who is there\".split())\n",
    "    3\n",
    "    \"\"\"\n",
    "    # initialisation\n",
    "    d = np.zeros((len(r)+1)*(len(h)+1), dtype=np.uint8)\n",
    "    d = d.reshape((len(r)+1, len(h)+1))\n",
    "    for i in range(len(r)+1):\n",
    "        for j in range(len(h)+1):\n",
    "            if i == 0:\n",
    "                d[0][j] = j\n",
    "            elif j == 0:\n",
    "                d[i][0] = i\n",
    "\n",
    "    # computation\n",
    "    for i in range(1, len(r)+1):\n",
    "        for j in range(1, len(h)+1):\n",
    "            if r[i-1] == h[j-1]:\n",
    "                d[i][j] = d[i-1][j-1]\n",
    "            else:\n",
    "                substitution = d[i-1][j-1] + 1\n",
    "                insertion    = d[i][j-1] + 1\n",
    "                deletion     = d[i-1][j] + 1\n",
    "                d[i][j] = min(substitution, insertion, deletion)\n",
    "\n",
    "    return d[len(r)][len(h)]"
   ]
  },
  {
   "cell_type": "code",
   "execution_count": 17,
   "metadata": {},
   "outputs": [],
   "source": [
    "# create dictionary\n",
    "a_to_z = \"abcdefghijklmnopqrstuvwxyz\"\n",
    "\n",
    "word2idx = dict()\n",
    "idx2word = dict()\n",
    "\n",
    "word2idx[\"RESERVE\"] = 0\n",
    "idx2word[0] = \"RESERVE\"\n",
    "\n",
    "for c in a_to_z:\n",
    "    word2idx[c] = len(word2idx)\n",
    "    idx2word[len(idx2word)] = c\n",
    "    \n",
    "word2idx[\" \"] = len(word2idx)\n",
    "idx2word[len(idx2word)] = \" \""
   ]
  },
  {
   "cell_type": "code",
   "execution_count": 19,
   "metadata": {},
   "outputs": [],
   "source": [
    "max_output_len = 32\n",
    "\n",
    "def align_path_to_list(path):\n",
    "    l = []\n",
    "    file = open(path)\n",
    "    for line in file:\n",
    "        line = line.strip().split()[-1]\n",
    "        if line.upper() == \"SIL\":\n",
    "            continue\n",
    "        if line.upper() == \"SP\":\n",
    "            continue\n",
    "        for c in line:\n",
    "            l.append(word2idx[c])\n",
    "        l.append(word2idx[\" \"])\n",
    "    file.close() \n",
    "    return l[:-1]"
   ]
  },
  {
   "cell_type": "code",
   "execution_count": 24,
   "metadata": {},
   "outputs": [],
   "source": [
    "align = align_path_to_list(label_path)\n",
    "lebel_length = len(align)\n",
    "        \n",
    "while len(align) < max_output_len:\n",
    "    align.append(-1)\n",
    "align = np.array(align)"
   ]
  },
  {
   "cell_type": "code",
   "execution_count": 22,
   "metadata": {},
   "outputs": [],
   "source": [
    "class LipNet(torch.nn.Module):\n",
    "    def __init__(self, dropout_p=0.5):\n",
    "        super(LipNet, self).__init__()\n",
    "        self.conv1 = nn.Conv3d(3, 32, (3, 5, 5), (1, 2, 2), (1, 2, 2))\n",
    "        self.pool1 = nn.MaxPool3d((1, 2, 2), (1, 2, 2))\n",
    "        self.bn1 = nn.BatchNorm3d(32)\n",
    "        \n",
    "        self.conv2 = nn.Conv3d(32, 64, (3, 5, 5), (1, 1, 1), (1, 2, 2))\n",
    "        self.pool2 = nn.MaxPool3d((1, 2, 2), (1, 2, 2))\n",
    "        self.bn2 = nn.BatchNorm3d(64)\n",
    "        \n",
    "        self.conv3 = nn.Conv3d(64, 96, (3, 3, 3), (1, 1, 1), (1, 1, 1))     \n",
    "        self.pool3 = nn.MaxPool3d((1, 2, 2), (1, 2, 2))\n",
    "        self.bn3 = nn.BatchNorm3d(96)\n",
    "        \n",
    "        self.feature_ex = nn.Linear(40, 128)\n",
    "        self.gru1  = nn.GRU(96*4*8 + 128, 256, 1, bidirectional=True)\n",
    "        self.gru2  = nn.GRU(512, 256, 1, bidirectional=True)\n",
    "        \n",
    "        self.FC    = nn.Linear(512, 27+1)\n",
    "        self.dropout_p  = dropout_p\n",
    "\n",
    "        self.relu = nn.ReLU(inplace=True)\n",
    "        self.dropout = nn.Dropout(self.dropout_p)      \n",
    "        self.dropout3d = nn.Dropout3d(self.dropout_p)  \n",
    "        self._init()\n",
    "    \n",
    "    def _init(self):\n",
    "        \n",
    "        init.kaiming_normal_(self.conv1.weight, nonlinearity='relu')\n",
    "        init.constant_(self.conv1.bias, 0)\n",
    "        \n",
    "        init.kaiming_normal_(self.conv2.weight, nonlinearity='relu')\n",
    "        init.constant_(self.conv2.bias, 0)\n",
    "        \n",
    "        init.kaiming_normal_(self.conv3.weight, nonlinearity='relu')\n",
    "        init.constant_(self.conv3.bias, 0)        \n",
    "        \n",
    "        init.kaiming_normal_(self.FC.weight, nonlinearity='sigmoid')\n",
    "        init.constant_(self.FC.bias, 0)\n",
    "        \n",
    "        init.kaiming_normal_(self.feature_ex.weight, nonlinearity='sigmoid')\n",
    "        init.constant_(self.feature_ex.bias, 0)\n",
    "        \n",
    "        for m in (self.gru1, self.gru2):\n",
    "            stdv = math.sqrt(2 / (96*4*8 + 128 + 256))\n",
    "            for i in range(0, 256 * 3, 256):\n",
    "                init.uniform_(m.weight_ih_l0[i: i + 256],\n",
    "                            -math.sqrt(3) * stdv, math.sqrt(3) * stdv)\n",
    "                init.orthogonal_(m.weight_hh_l0[i: i + 256])\n",
    "                init.constant_(m.bias_ih_l0[i: i + 256], 0)\n",
    "                init.uniform_(m.weight_ih_l0_reverse[i: i + 256],\n",
    "                            -math.sqrt(3) * stdv, math.sqrt(3) * stdv)\n",
    "                init.orthogonal_(m.weight_hh_l0_reverse[i: i + 256])\n",
    "                init.constant_(m.bias_ih_l0_reverse[i: i + 256], 0)\n",
    "        \n",
    "        \n",
    "    def forward(self, x, landmark):\n",
    "        x = self.conv1(x)\n",
    "        x = self.relu(x)\n",
    "        x = self.bn1(x)\n",
    "        x = self.dropout3d(x)\n",
    "        x = self.pool1(x)\n",
    "        \n",
    "        x = self.conv2(x)\n",
    "        x = self.relu(x)\n",
    "        x = self.bn2(x)\n",
    "        x = self.dropout3d(x)        \n",
    "        x = self.pool2(x)\n",
    "        \n",
    "        x = self.conv3(x)\n",
    "        x = self.relu(x)\n",
    "        x = self.bn3(x)\n",
    "        x = self.dropout3d(x)        \n",
    "        x = self.pool3(x)\n",
    "        \n",
    "        # (B, C, T, H, W)->(T, B, C, H, W)\n",
    "        x = x.permute(2, 0, 1, 3, 4).contiguous()\n",
    "        # (B, C, T, H, W)->(T, B, C*H*W)\n",
    "        x = x.view(x.size(0), x.size(1), -1)\n",
    "        \n",
    "        \n",
    "        # concat landmark\n",
    "        landmark = self.feature_ex(landmark)\n",
    "        landmark = landmark.view((75,landmark.shape[0],128))\n",
    "        x = torch.cat((x,landmark), 2)\n",
    "        \n",
    "        self.gru1.flatten_parameters()\n",
    "        self.gru2.flatten_parameters()\n",
    "        \n",
    "        x, h = self.gru1(x)        \n",
    "        x = self.dropout(x)\n",
    "        x, h = self.gru2(x)   \n",
    "        x = self.dropout(x)\n",
    "                \n",
    "        x = self.FC(x)\n",
    "        x = x.permute(1, 0, 2).contiguous()\n",
    "        return x"
   ]
  },
  {
   "cell_type": "code",
   "execution_count": 23,
   "metadata": {},
   "outputs": [
    {
     "data": {
      "text/plain": [
       "<All keys matched successfully>"
      ]
     },
     "execution_count": 23,
     "metadata": {},
     "output_type": "execute_result"
    }
   ],
   "source": [
    "lipnet = LipNet().float().cuda()\n",
    "lipnet.load_state_dict(torch.load(\"./weights/torch_improve_ep_26.pt\"))"
   ]
  },
  {
   "cell_type": "code",
   "execution_count": 32,
   "metadata": {},
   "outputs": [],
   "source": [
    "images = torch.from_numpy(out_image[np.newaxis,:]).permute(0, 4, 1, 2, 3).cuda()\n",
    "landmarks = torch.from_numpy(out_landmark[np.newaxis,:]).cuda()\n",
    "\n",
    "lipnet.eval() ### not sure !!!!\n",
    "outputs = lipnet(images.float(), landmarks.float())\n",
    "\n",
    "txt_pred = text_decode(outputs.detach())\n",
    "real_pred = real_decode(align[np.newaxis,:],[lebel_length])\n",
    "result_cer = cer(txt_pred, real_pred)\n",
    "result_wer = wer(txt_pred, real_pred)"
   ]
  },
  {
   "cell_type": "code",
   "execution_count": 33,
   "metadata": {},
   "outputs": [
    {
     "data": {
      "text/plain": [
       "['bin blue by u fou now']"
      ]
     },
     "execution_count": 33,
     "metadata": {},
     "output_type": "execute_result"
    }
   ],
   "source": [
    "txt_pred"
   ]
  },
  {
   "cell_type": "code",
   "execution_count": 34,
   "metadata": {},
   "outputs": [
    {
     "data": {
      "text/plain": [
       "['bin blue at f two now']"
      ]
     },
     "execution_count": 34,
     "metadata": {},
     "output_type": "execute_result"
    }
   ],
   "source": [
    "real_pred"
   ]
  },
  {
   "cell_type": "code",
   "execution_count": 35,
   "metadata": {},
   "outputs": [
    {
     "data": {
      "text/plain": [
       "[0.2857142857142857]"
      ]
     },
     "execution_count": 35,
     "metadata": {},
     "output_type": "execute_result"
    }
   ],
   "source": [
    "result_cer"
   ]
  },
  {
   "cell_type": "code",
   "execution_count": 36,
   "metadata": {},
   "outputs": [
    {
     "data": {
      "text/plain": [
       "[0.5]"
      ]
     },
     "execution_count": 36,
     "metadata": {},
     "output_type": "execute_result"
    }
   ],
   "source": [
    "result_wer"
   ]
  },
  {
   "cell_type": "code",
   "execution_count": null,
   "metadata": {},
   "outputs": [],
   "source": []
  }
 ],
 "metadata": {
  "kernelspec": {
   "display_name": "Python 3",
   "language": "python",
   "name": "python3"
  },
  "language_info": {
   "codemirror_mode": {
    "name": "ipython",
    "version": 3
   },
   "file_extension": ".py",
   "mimetype": "text/x-python",
   "name": "python",
   "nbconvert_exporter": "python",
   "pygments_lexer": "ipython3",
   "version": "3.6.8"
  }
 },
 "nbformat": 4,
 "nbformat_minor": 4
}
